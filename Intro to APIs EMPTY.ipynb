{
 "cells": [
  {
   "cell_type": "markdown",
   "id": "7196054f",
   "metadata": {},
   "source": [
    "# Working with APIs"
   ]
  },
  {
   "cell_type": "markdown",
   "id": "0547b71e",
   "metadata": {},
   "source": [
    "API stands for Application programming interface<br>\n",
    "APIs are a way for applications to talk to eachother<br>\n",
    "In python we use the requests package to handle the connection<br>\n",
    "<small><strong>Note: It is requests with an s not request(this is a different package)</strong></small><br>\n",
    "Most API's communicate with data in the form of JSON<br>\n",
    "JSON stands for JavaScript Object Notation"
   ]
  },
  {
   "cell_type": "code",
   "execution_count": 3,
   "id": "4db9d154",
   "metadata": {},
   "outputs": [],
   "source": [
    "#import the packages we need:\n",
    "import requests as r\n"
   ]
  },
  {
   "cell_type": "markdown",
   "id": "e8c2ce51",
   "metadata": {},
   "source": [
    "We will be connecting to the Ergast F1 Racer API today:\n",
    "http://ergast.com/mrd/\n",
    "\n",
    "to view JSON data nicely in the Chrome browser install the extension JSONview"
   ]
  },
  {
   "cell_type": "code",
   "execution_count": 5,
   "id": "52c440c6",
   "metadata": {},
   "outputs": [],
   "source": [
    "# help(r)"
   ]
  },
  {
   "cell_type": "code",
   "execution_count": 7,
   "id": "f60c1b4a",
   "metadata": {},
   "outputs": [
    {
     "name": "stdout",
     "output_type": "stream",
     "text": [
      "<Response [200]>\n",
      "<class 'requests.models.Response'>\n"
     ]
    }
   ],
   "source": [
    "url = 'http://ergast.com/api/f1/2008/5/driverStandings.json'\n",
    "result = r.get(url)\n",
    "print(result)\n",
    "print(type(result))"
   ]
  },
  {
   "cell_type": "code",
   "execution_count": 12,
   "id": "7b63a204",
   "metadata": {},
   "outputs": [
    {
     "name": "stdout",
     "output_type": "stream",
     "text": [
      "True\n",
      "200\n"
     ]
    }
   ],
   "source": [
    "#response object\n",
    "print(result.ok)\n",
    "print(result.status_code)"
   ]
  },
  {
   "cell_type": "code",
   "execution_count": 22,
   "id": "c6d1fdaf",
   "metadata": {},
   "outputs": [],
   "source": [
    "#check and make sure we got a successful response from the API\n",
    "# These are the only new lines of code that weve learned\n",
    "import requests as r                                                \n",
    "\n",
    "response = r.get('http://ergast.com/api/f1/2008/5/driverStandings.json')\n",
    "if response.ok:\n",
    "    data = response.json()"
   ]
  },
  {
   "cell_type": "code",
   "execution_count": 21,
   "id": "ed4d3256",
   "metadata": {
    "scrolled": true
   },
   "outputs": [
    {
     "name": "stdout",
     "output_type": "stream",
     "text": [
      "Kimi Räikkönen was driving a Ferrari and came in position 1\n",
      "Felipe Massa was driving a Ferrari and came in position 2\n",
      "Lewis Hamilton was driving a McLaren and came in position 3\n",
      "Robert Kubica was driving a BMW Sauber and came in position 4\n",
      "Nick Heidfeld was driving a BMW Sauber and came in position 5\n",
      "Heikki Kovalainen was driving a McLaren and came in position 6\n",
      "Mark Webber was driving a Red Bull and came in position 7\n",
      "Fernando Alonso was driving a Renault and came in position 8\n",
      "Jarno Trulli was driving a Toyota and came in position 9\n",
      "Nico Rosberg was driving a Williams and came in position 10\n",
      "Kazuki Nakajima was driving a Williams and came in position 11\n",
      "Jenson Button was driving a Honda and came in position 12\n",
      "Sébastien Bourdais was driving a Toro Rosso and came in position 13\n",
      "David Coulthard was driving a Red Bull and came in position 14\n",
      "Timo Glock was driving a Toyota and came in position 15\n",
      "Giancarlo Fisichella was driving a Force India and came in position 16\n",
      "Rubens Barrichello was driving a Honda and came in position 17\n",
      "Nelson Piquet Jr. was driving a Renault and came in position 18\n",
      "Takuma Sato was driving a Super Aguri and came in position 19\n",
      "Anthony Davidson was driving a Super Aguri and came in position 20\n",
      "Adrian Sutil was driving a Force India and came in position 21\n",
      "Sebastian Vettel was driving a Toro Rosso and came in position 22\n"
     ]
    }
   ],
   "source": [
    "data = result.json()\n",
    "standings = data['MRData']['StandingsTable']['StandingsLists'][0]['DriverStandings']\n",
    "\n",
    "for person in standings:\n",
    "    name = f\"{person['Driver']['givenName']} {person['Driver']['familyName']}\"\n",
    "    car = person['Constructors'][0]['name']\n",
    "    position = person['position']\n",
    "    string = f\"{name} was driving a {car} and came in position {position}\"\n",
    "    print(string)\n"
   ]
  },
  {
   "cell_type": "code",
   "execution_count": null,
   "id": "92e6cd2c",
   "metadata": {},
   "outputs": [],
   "source": [
    "data/bracket/name\n",
    "abilities/name"
   ]
  },
  {
   "cell_type": "code",
   "execution_count": 5,
   "id": "f074dfcf",
   "metadata": {},
   "outputs": [],
   "source": [
    "# We only want the Driver Standings\n"
   ]
  },
  {
   "cell_type": "code",
   "execution_count": null,
   "id": "be46a950",
   "metadata": {},
   "outputs": [],
   "source": []
  },
  {
   "cell_type": "code",
   "execution_count": null,
   "id": "3740c752",
   "metadata": {},
   "outputs": [],
   "source": []
  },
  {
   "cell_type": "markdown",
   "id": "6d546014",
   "metadata": {},
   "source": [
    "# <strong>Homework</strong>\n",
    "check out this Pokemon API https://pokeapi.co/\n",
    "Use the requests package to connect to this API and get and store data for 5 different pokemon.\n",
    "Get the pokemons: name, atleast one ability's name, base_experience, and the URL for its sprite (an image that shows up on screen) for the 'front_shiny', attack base_state, hp base_stat, defense base_stat"
   ]
  },
  {
   "cell_type": "code",
   "execution_count": 4,
   "id": "5a9081e3",
   "metadata": {},
   "outputs": [
    {
     "name": "stdout",
     "output_type": "stream",
     "text": [
      "Pokemon: pikachu\n",
      "Ability: static\n",
      "Base Experience: 112\n",
      "Sprite URL: https://raw.githubusercontent.com/PokeAPI/sprites/master/sprites/pokemon/shiny/25.png\n",
      "Attack: 55\n",
      "HP: 35\n",
      "Defense: 40\n",
      "\n",
      "\n",
      "Pokemon: bulbasaur\n",
      "Ability: overgrow\n",
      "Base Experience: 64\n",
      "Sprite URL: https://raw.githubusercontent.com/PokeAPI/sprites/master/sprites/pokemon/shiny/1.png\n",
      "Attack: 49\n",
      "HP: 45\n",
      "Defense: 49\n",
      "\n",
      "\n",
      "Pokemon: charmander\n",
      "Ability: blaze\n",
      "Base Experience: 62\n",
      "Sprite URL: https://raw.githubusercontent.com/PokeAPI/sprites/master/sprites/pokemon/shiny/4.png\n",
      "Attack: 52\n",
      "HP: 39\n",
      "Defense: 43\n",
      "\n",
      "\n",
      "Pokemon: squirtle\n",
      "Ability: torrent\n",
      "Base Experience: 63\n",
      "Sprite URL: https://raw.githubusercontent.com/PokeAPI/sprites/master/sprites/pokemon/shiny/7.png\n",
      "Attack: 48\n",
      "HP: 44\n",
      "Defense: 65\n",
      "\n",
      "\n",
      "Pokemon: jigglypuff\n",
      "Ability: cute-charm\n",
      "Base Experience: 95\n",
      "Sprite URL: https://raw.githubusercontent.com/PokeAPI/sprites/master/sprites/pokemon/shiny/39.png\n",
      "Attack: 45\n",
      "HP: 115\n",
      "Defense: 20\n",
      "\n",
      "\n"
     ]
    }
   ],
   "source": [
    "import requests as r\n",
    "\n",
    "# Function to fetch Pokémon data\n",
    "def fetch_pokemon_data(pokemon_name):\n",
    "    url = f\"https://pokeapi.co/api/v2/pokemon/{pokemon_name}/\"\n",
    "    response = requests.get(url)\n",
    "    if response.status_code == 200:\n",
    "        pokemon_data = response.json()\n",
    "        return pokemon_data\n",
    "    else:\n",
    "        print(f\"Failed to fetch data for {pokemon_name}\")\n",
    "        return None\n",
    "\n",
    "    \n",
    "    \n",
    "\n",
    "pokemon_names = [\"pikachu\", \"bulbasaur\", \"charmander\", \"squirtle\", \"jigglypuff\"]\n",
    "\n",
    "pokemon_data_dict = {}\n",
    "\n",
    "for name in pokemon_names:\n",
    "    data = fetch_pokemon_data(name)\n",
    "    if data:\n",
    "        pokemon_data_dict[name] = {\n",
    "            \"Name\": data[\"name\"],\n",
    "            \"Ability\": data[\"abilities\"][0][\"ability\"][\"name\"],\n",
    "            \"Base Experience\": data[\"base_experience\"],\n",
    "            \"Sprite URL\": data[\"sprites\"][\"front_shiny\"],\n",
    "            \"Attack\": data[\"stats\"][1][\"base_stat\"],\n",
    "            \"HP\": data[\"stats\"][0][\"base_stat\"],\n",
    "            \"Defense\": data[\"stats\"][2][\"base_stat\"]\n",
    "        }\n",
    "\n",
    "for name, data in pokemon_data_dict.items():\n",
    "    print(f\"Pokemon: {data['Name']}\")\n",
    "    print(f\"Ability: {data['Ability']}\")\n",
    "    print(f\"Base Experience: {data['Base Experience']}\")\n",
    "    print(f\"Sprite URL: {data['Sprite URL']}\")\n",
    "    print(f\"Attack: {data['Attack']}\")\n",
    "    print(f\"HP: {data['HP']}\")\n",
    "    print(f\"Defense: {data['Defense']}\")\n",
    "    print(\"\\n\")\n"
   ]
  }
 ],
 "metadata": {
  "kernelspec": {
   "display_name": "Python 3 (ipykernel)",
   "language": "python",
   "name": "python3"
  },
  "language_info": {
   "codemirror_mode": {
    "name": "ipython",
    "version": 3
   },
   "file_extension": ".py",
   "mimetype": "text/x-python",
   "name": "python",
   "nbconvert_exporter": "python",
   "pygments_lexer": "ipython3",
   "version": "3.11.3"
  }
 },
 "nbformat": 4,
 "nbformat_minor": 5
}
